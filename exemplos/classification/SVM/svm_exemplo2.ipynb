{
 "cells": [
  {
   "cell_type": "code",
   "execution_count": null,
   "metadata": {
    "id": "UZJfev6csowe"
   },
   "outputs": [],
   "source": [
    "import numpy as np\n",
    "import matplotlib.pyplot as plt\n",
    "from sklearn.svm import SVC\n",
    "from sklearn.datasets import make_circles\n",
    "from sklearn.pipeline import Pipeline\n",
    "from sklearn.preprocessing import StandardScaler\n",
    "\n",
    "# To plot figures interactively\n",
    "%matplotlib inline"
   ]
  },
  {
   "cell_type": "code",
   "execution_count": null,
   "metadata": {
    "id": "O2BLZXCssowg"
   },
   "outputs": [],
   "source": [
    "# To make this notebook's output stable across runs\n",
    "np.random.seed(42)"
   ]
  },
  {
   "cell_type": "code",
   "execution_count": null,
   "metadata": {
    "colab": {
     "referenced_widgets": [
      "880e06a203d54a36a13452ff81b6c637"
     ]
    },
    "id": "UtZ3pDMwsowh",
    "outputId": "4ced2eef-7b9d-4e15-a6bc-1787af0b98a8"
   },
   "outputs": [
    {
     "data": {
      "application/vnd.jupyter.widget-view+json": {
       "model_id": "880e06a203d54a36a13452ff81b6c637",
       "version_major": 2,
       "version_minor": 0
      },
      "text/plain": [
       "Canvas(toolbar=Toolbar(toolitems=[('Home', 'Reset original view', 'home', 'home'), ('Back', 'Back to previous …"
      ]
     },
     "metadata": {},
     "output_type": "display_data"
    }
   ],
   "source": [
    "N = 1000\n",
    "X = np.c_[3 * np.random.rand(N) - 1.5, 3 * np.random.rand(N) - 1.5]\n",
    "y = np.zeros(N,)\n",
    "\n",
    "r = X[:, 0]**2 + X[:, 1]**2\n",
    "y = np.where(r <= 1.0, -1, 1)\n",
    "\n",
    "plt.figure()\n",
    "plt.scatter(X[:, 0], X[:, 1], c=y, cmap='coolwarm', edgecolor='k')\n",
    "plt.xlabel('$x_1$')\n",
    "plt.ylabel('$x_2$')\n",
    "plt.show()"
   ]
  },
  {
   "cell_type": "code",
   "execution_count": null,
   "metadata": {
    "colab": {
     "referenced_widgets": [
      "1a42517f7e2d4348ad2da987b5cc576e"
     ]
    },
    "id": "ex8Tlu0msowi",
    "outputId": "7fb1da28-7879-4974-84a9-7d8e059975f7"
   },
   "outputs": [
    {
     "data": {
      "application/vnd.jupyter.widget-view+json": {
       "model_id": "1a42517f7e2d4348ad2da987b5cc576e",
       "version_major": 2,
       "version_minor": 0
      },
      "text/plain": [
       "Canvas(toolbar=Toolbar(toolitems=[('Home', 'Reset original view', 'home', 'home'), ('Back', 'Back to previous …"
      ]
     },
     "metadata": {},
     "output_type": "display_data"
    }
   ],
   "source": [
    "idx0 = np.argwhere(y == -1)\n",
    "idx1 = np.argwhere(y == 1)\n",
    "\n",
    "plt.figure(figsize=(5, 5))\n",
    "plt.scatter(X[idx0, 0], X[idx0, 1], c='blue', label='Class 0', edgecolor='k')\n",
    "plt.scatter(X[idx1, 0], X[idx1, 1], c='red', label='Class 1', edgecolor='k')\n",
    "plt.xlabel('$x_1$')\n",
    "plt.ylabel('$x_2$')\n",
    "plt.legend()\n",
    "plt.show()"
   ]
  },
  {
   "cell_type": "markdown",
   "metadata": {
    "id": "YJqEZ6YTsowj"
   },
   "source": [
    "# True decision boundary"
   ]
  },
  {
   "cell_type": "code",
   "execution_count": null,
   "metadata": {
    "colab": {
     "referenced_widgets": [
      "aec17d7f282a4f0e831e35116e22e26e"
     ]
    },
    "id": "16F4l5uFsowk",
    "outputId": "d4f928a3-781b-4b27-832a-6d6debdfa7b1"
   },
   "outputs": [
    {
     "data": {
      "application/vnd.jupyter.widget-view+json": {
       "model_id": "aec17d7f282a4f0e831e35116e22e26e",
       "version_major": 2,
       "version_minor": 0
      },
      "text/plain": [
       "Canvas(toolbar=Toolbar(toolitems=[('Home', 'Reset original view', 'home', 'home'), ('Back', 'Back to previous …"
      ]
     },
     "metadata": {},
     "output_type": "display_data"
    }
   ],
   "source": [
    "x1 = X[:, 0]\n",
    "x2 = X[:, 1]\n",
    "f1 = x1**2\n",
    "f2 = x2**2\n",
    "f3 = np.sqrt(2) * x1 * x2\n",
    "\n",
    "F = np.c_[f1, f2, f3]"
   ]
  },
  {
   "cell_type": "markdown",
   "metadata": {
    "id": "9ByEOFiusowl"
   },
   "source": [
    "# Mapping data into higher dimension"
   ]
  },
  {
   "cell_type": "code",
   "execution_count": null,
   "metadata": {
    "id": "o11RVOeFsowl"
   },
   "outputs": [],
   "source": [
    "svc = SVC(kernel=\"linear\", random_state=42)\n",
    "svc.fit(F, y)"
   ]
  },
  {
   "cell_type": "code",
   "execution_count": null,
   "metadata": {
    "colab": {
     "referenced_widgets": [
      "24a10828306d4126b29db920aa8bb6b7"
     ]
    },
    "id": "6qQ6PUopsowm",
    "outputId": "b457817e-b6c9-433c-ca01-49cf64f8ddb9"
   },
   "outputs": [
    {
     "data": {
      "application/vnd.jupyter.widget-view+json": {
       "model_id": "24a10828306d4126b29db920aa8bb6b7",
       "version_major": 2,
       "version_minor": 0
      },
      "text/plain": [
       "Canvas(toolbar=Toolbar(toolitems=[('Home', 'Reset original view', 'home', 'home'), ('Back', 'Back to previous …"
      ]
     },
     "metadata": {},
     "output_type": "display_data"
    }
   ],
   "source": [
    "w = svc.coef_\n",
    "b = svc.intercept_\n",
    "\n",
    "x1 = np.linspace(0, 1, 10)\n",
    "x2 = np.linspace(0, 1, 10)\n",
    "x1, x2 = np.meshgrid(x1, x2)\n",
    "x3 = -(w[0, 0] * x1 + w[0, 1] * x2 + b) / w[0, 2]\n",
    "\n",
    "fig = plt.figure(figsize=(10, 5))\n",
    "ax = fig.add_subplot(111, projection='3d')\n",
    "ax.plot_wireframe(x1, x2, x3, color='k', alpha=0.7)\n",
    "ax.scatter(f1, f2, f3, c=y, cmap=cm.coolwarm, edgecolor='k')\n",
    "ax.set_xlabel('$f_1 = x_1^2$')\n",
    "ax.set_ylabel('$f_2 = x_2^2$')\n",
    "ax.set_zlabel('$f_3 = \\sqrt{2} x_1 x_2$')\n",
    "ax.view_init(20, -60)\n",
    "plt.show()"
   ]
  },
  {
   "cell_type": "code",
   "execution_count": null,
   "metadata": {
    "id": "gQkz8ksPsowm",
    "outputId": "7dae5e77-cc1b-479d-e6b8-63655630bfe8"
   },
   "outputs": [
    {
     "data": {
      "text/plain": [
       "SVC(kernel='linear', random_state=42)"
      ]
     },
     "execution_count": 97,
     "metadata": {},
     "output_type": "execute_result"
    }
   ],
   "source": [
    "x_min, x_max = X[:, 0].min() - .5, X[:, 0].max() + .5\n",
    "y_min, y_max = X[:, 1].min() - .5, X[:, 1].max() + .5\n",
    "h = .02\n",
    "xx, yy = np.meshgrid(np.arange(x_min, x_max, h),\n",
    "                     np.arange(y_min, y_max, h))\n",
    "zz = np.sqrt(2) * xx * yy\n",
    "\n",
    "Z = svc.predict(np.c_[xx.ravel()**2, yy.ravel()**2, zz.ravel()])\n",
    "Z = Z.reshape(xx.shape)\n",
    "\n",
    "plt.figure(figsize=(5, 5))\n",
    "plt.contourf(xx, yy, Z, alpha=0.8, cmap='coolwarm')\n",
    "plt.scatter(X[:, 0], X[:, 1], c=y, cmap='coolwarm', edgecolor='k')\n",
    "plt.xlabel('$x_1$')\n",
    "plt.ylabel('$x_2$')\n",
    "plt.xlim(-1.5, 1.5)\n",
    "plt.ylim(-1.5, 1.5)\n",
    "plt.show()"
   ]
  },
  {
   "cell_type": "code",
   "execution_count": null,
   "metadata": {
    "id": "crPmcGELsown"
   },
   "outputs": [],
   "source": [
    "w = svc.coef_\n",
    "b = svc.intercept_\n",
    "\n",
    "x1 = np.linspace(0,1,10).reshape((-1, 1))\n",
    "x2 = np.linspace(0,1,10).reshape((-1, 1))\n",
    "\n",
    "x1, x2 = np.meshgrid(x1, x2)\n",
    "x3 = -((w[0][0]*x1 + w[0][1]*x2 + b) / (w[0][2]))"
   ]
  },
  {
   "cell_type": "code",
   "execution_count": null,
   "metadata": {
    "colab": {
     "referenced_widgets": [
      "aa48dbc8766b4b33bd150ef39bde9970"
     ]
    },
    "id": "2lkKY3D9sown",
    "outputId": "b876267a-7b0a-4c57-a0b9-bdcc0c3c8289"
   },
   "outputs": [
    {
     "data": {
      "application/vnd.jupyter.widget-view+json": {
       "model_id": "aa48dbc8766b4b33bd150ef39bde9970",
       "version_major": 2,
       "version_minor": 0
      },
      "text/plain": [
       "Canvas(toolbar=Toolbar(toolitems=[('Home', 'Reset original view', 'home', 'home'), ('Back', 'Back to previous …"
      ]
     },
     "metadata": {},
     "output_type": "display_data"
    }
   ],
   "source": [
    "fig = plt.figure(figsize=(10,5))\n",
    "\n",
    "ax = fig.add_subplot(111, projection = '3d')\n",
    "ax.plot_wireframe(x1, x2, x3)\n",
    "ax.scatter(f1, f2, f3, c=y, cmap=cm.coolwarm)\n",
    "\n",
    "ax.set_xlabel('$f_1 = x_1^2$')\n",
    "ax.set_ylabel('$f_2 = x_2^2$')\n",
    "ax.set_zlabel('$f_3 = \\sqrt{2} x_1 x_2$')\n",
    "\n",
    "ax.view_init(0, -25)\n",
    "plt.show()"
   ]
  },
  {
   "cell_type": "code",
   "execution_count": null,
   "metadata": {
    "colab": {
     "referenced_widgets": [
      "04c87130975640c5a4a22f50385fdbd1"
     ]
    },
    "id": "uBVU8IKosown",
    "outputId": "207659ff-42b6-4f79-92f1-6bcb6d73cceb"
   },
   "outputs": [
    {
     "data": {
      "application/vnd.jupyter.widget-view+json": {
       "model_id": "04c87130975640c5a4a22f50385fdbd1",
       "version_major": 2,
       "version_minor": 0
      },
      "text/plain": [
       "Canvas(toolbar=Toolbar(toolitems=[('Home', 'Reset original view', 'home', 'home'), ('Back', 'Back to previous …"
      ]
     },
     "metadata": {},
     "output_type": "display_data"
    }
   ],
   "source": [
    "# Plot the decision boundary. For that, we will assign a color to each\n",
    "# point in the mesh [x_min, x_max]x[y_min, y_max].\n",
    "x_min, x_max = X[:, 0].min() - .5, X[:, 0].max() + .5\n",
    "y_min, y_max = X[:, 1].min() - .5, X[:, 1].max() + .5\n",
    "h = .02  # step size in the mesh\n",
    "xx, yy = np.meshgrid(np.arange(x_min, x_max, h), np.arange(y_min, y_max, h))\n",
    "zz = np.sqrt(2)*xx*yy\n",
    "\n",
    "Z = svc.predict(np.c_[xx.ravel()**2, yy.ravel()**2, zz.ravel()])\n",
    "\n",
    "# Put the result into a color plot\n",
    "Z = Z.reshape(xx.shape)\n",
    "plt.figure(figsize=(5, 5))\n",
    "plt.pcolormesh(xx, yy, Z, shading='auto')\n",
    "\n",
    "# Plot also the training points\n",
    "theta = np.linspace(0, 2*np.pi, 200)\n",
    "r = 1.0\n",
    "x1 = r*np.cos(theta)\n",
    "x2 = r*np.sin(theta)\n",
    "\n",
    "plt.plot(X[idx0,0], X[idx0,1], '.', label='Class 0')\n",
    "plt.plot(X[idx1,0], X[idx1,1], 'rx', label='Class 1')\n",
    "plt.plot(x1,x2,'k',linewidth=2, label='True decision boundary')\n",
    "\n",
    "plt.xlabel('$x_1$')\n",
    "plt.ylabel('$x_2$')\n",
    "\n",
    "plt.xlim(-1.5, 1.5)\n",
    "plt.ylim(-1.5, 1.5)\n",
    "\n",
    "plt.legend()\n",
    "\n",
    "plt.show()"
   ]
  },
  {
   "cell_type": "code",
   "execution_count": null,
   "metadata": {
    "id": "WUHI6Polsown"
   },
   "outputs": [],
   "source": []
  },
  {
   "cell_type": "code",
   "execution_count": null,
   "metadata": {
    "id": "5MPiomtwsown"
   },
   "outputs": [],
   "source": []
  },
  {
   "cell_type": "code",
   "execution_count": null,
   "metadata": {
    "id": "QFnHXELtsowo"
   },
   "outputs": [],
   "source": []
  },
  {
   "cell_type": "code",
   "execution_count": null,
   "metadata": {
    "id": "Ai-eU74msowo"
   },
   "outputs": [],
   "source": []
  }
 ],
 "metadata": {
  "colab": {
   "provenance": []
  },
  "kernelspec": {
   "display_name": "Python 3",
   "language": "python",
   "name": "python3"
  },
  "language_info": {
   "codemirror_mode": {
    "name": "ipython",
    "version": 3
   },
   "file_extension": ".py",
   "mimetype": "text/x-python",
   "name": "python",
   "nbconvert_exporter": "python",
   "pygments_lexer": "ipython3",
   "version": "3.7.7"
  }
 },
 "nbformat": 4,
 "nbformat_minor": 0
}
